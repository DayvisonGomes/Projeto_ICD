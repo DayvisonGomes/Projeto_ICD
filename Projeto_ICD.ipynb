{
 "cells": [
  {
   "cell_type": "code",
   "execution_count": 89,
   "metadata": {},
   "outputs": [],
   "source": [
    "import pandas as pd\n",
    "import matplotlib.pyplot as plt"
   ]
  },
  {
   "cell_type": "code",
   "execution_count": 3,
   "metadata": {},
   "outputs": [],
   "source": [
    "df = pd.read_csv('netflix_titles.csv')"
   ]
  },
  {
   "cell_type": "code",
   "execution_count": 4,
   "metadata": {},
   "outputs": [
    {
     "data": {
      "text/html": [
       "<div>\n",
       "<style scoped>\n",
       "    .dataframe tbody tr th:only-of-type {\n",
       "        vertical-align: middle;\n",
       "    }\n",
       "\n",
       "    .dataframe tbody tr th {\n",
       "        vertical-align: top;\n",
       "    }\n",
       "\n",
       "    .dataframe thead th {\n",
       "        text-align: right;\n",
       "    }\n",
       "</style>\n",
       "<table border=\"1\" class=\"dataframe\">\n",
       "  <thead>\n",
       "    <tr style=\"text-align: right;\">\n",
       "      <th></th>\n",
       "      <th>show_id</th>\n",
       "      <th>type</th>\n",
       "      <th>title</th>\n",
       "      <th>director</th>\n",
       "      <th>cast</th>\n",
       "      <th>country</th>\n",
       "      <th>date_added</th>\n",
       "      <th>release_year</th>\n",
       "      <th>rating</th>\n",
       "      <th>duration</th>\n",
       "      <th>listed_in</th>\n",
       "      <th>description</th>\n",
       "    </tr>\n",
       "  </thead>\n",
       "  <tbody>\n",
       "    <tr>\n",
       "      <th>0</th>\n",
       "      <td>81145628</td>\n",
       "      <td>Movie</td>\n",
       "      <td>Norm of the North: King Sized Adventure</td>\n",
       "      <td>Richard Finn, Tim Maltby</td>\n",
       "      <td>Alan Marriott, Andrew Toth, Brian Dobson, Cole...</td>\n",
       "      <td>United States, India, South Korea, China</td>\n",
       "      <td>September 9, 2019</td>\n",
       "      <td>2019</td>\n",
       "      <td>TV-PG</td>\n",
       "      <td>90 min</td>\n",
       "      <td>Children &amp; Family Movies, Comedies</td>\n",
       "      <td>Before planning an awesome wedding for his gra...</td>\n",
       "    </tr>\n",
       "    <tr>\n",
       "      <th>1</th>\n",
       "      <td>80117401</td>\n",
       "      <td>Movie</td>\n",
       "      <td>Jandino: Whatever it Takes</td>\n",
       "      <td>NaN</td>\n",
       "      <td>Jandino Asporaat</td>\n",
       "      <td>United Kingdom</td>\n",
       "      <td>September 9, 2016</td>\n",
       "      <td>2016</td>\n",
       "      <td>TV-MA</td>\n",
       "      <td>94 min</td>\n",
       "      <td>Stand-Up Comedy</td>\n",
       "      <td>Jandino Asporaat riffs on the challenges of ra...</td>\n",
       "    </tr>\n",
       "    <tr>\n",
       "      <th>2</th>\n",
       "      <td>70234439</td>\n",
       "      <td>TV Show</td>\n",
       "      <td>Transformers Prime</td>\n",
       "      <td>NaN</td>\n",
       "      <td>Peter Cullen, Sumalee Montano, Frank Welker, J...</td>\n",
       "      <td>United States</td>\n",
       "      <td>September 8, 2018</td>\n",
       "      <td>2013</td>\n",
       "      <td>TV-Y7-FV</td>\n",
       "      <td>1 Season</td>\n",
       "      <td>Kids' TV</td>\n",
       "      <td>With the help of three human allies, the Autob...</td>\n",
       "    </tr>\n",
       "    <tr>\n",
       "      <th>3</th>\n",
       "      <td>80058654</td>\n",
       "      <td>TV Show</td>\n",
       "      <td>Transformers: Robots in Disguise</td>\n",
       "      <td>NaN</td>\n",
       "      <td>Will Friedle, Darren Criss, Constance Zimmer, ...</td>\n",
       "      <td>United States</td>\n",
       "      <td>September 8, 2018</td>\n",
       "      <td>2016</td>\n",
       "      <td>TV-Y7</td>\n",
       "      <td>1 Season</td>\n",
       "      <td>Kids' TV</td>\n",
       "      <td>When a prison ship crash unleashes hundreds of...</td>\n",
       "    </tr>\n",
       "    <tr>\n",
       "      <th>4</th>\n",
       "      <td>80125979</td>\n",
       "      <td>Movie</td>\n",
       "      <td>#realityhigh</td>\n",
       "      <td>Fernando Lebrija</td>\n",
       "      <td>Nesta Cooper, Kate Walsh, John Michael Higgins...</td>\n",
       "      <td>United States</td>\n",
       "      <td>September 8, 2017</td>\n",
       "      <td>2017</td>\n",
       "      <td>TV-14</td>\n",
       "      <td>99 min</td>\n",
       "      <td>Comedies</td>\n",
       "      <td>When nerdy high schooler Dani finally attracts...</td>\n",
       "    </tr>\n",
       "  </tbody>\n",
       "</table>\n",
       "</div>"
      ],
      "text/plain": [
       "    show_id     type                                    title  \\\n",
       "0  81145628    Movie  Norm of the North: King Sized Adventure   \n",
       "1  80117401    Movie               Jandino: Whatever it Takes   \n",
       "2  70234439  TV Show                       Transformers Prime   \n",
       "3  80058654  TV Show         Transformers: Robots in Disguise   \n",
       "4  80125979    Movie                             #realityhigh   \n",
       "\n",
       "                   director  \\\n",
       "0  Richard Finn, Tim Maltby   \n",
       "1                       NaN   \n",
       "2                       NaN   \n",
       "3                       NaN   \n",
       "4          Fernando Lebrija   \n",
       "\n",
       "                                                cast  \\\n",
       "0  Alan Marriott, Andrew Toth, Brian Dobson, Cole...   \n",
       "1                                   Jandino Asporaat   \n",
       "2  Peter Cullen, Sumalee Montano, Frank Welker, J...   \n",
       "3  Will Friedle, Darren Criss, Constance Zimmer, ...   \n",
       "4  Nesta Cooper, Kate Walsh, John Michael Higgins...   \n",
       "\n",
       "                                    country         date_added  release_year  \\\n",
       "0  United States, India, South Korea, China  September 9, 2019          2019   \n",
       "1                            United Kingdom  September 9, 2016          2016   \n",
       "2                             United States  September 8, 2018          2013   \n",
       "3                             United States  September 8, 2018          2016   \n",
       "4                             United States  September 8, 2017          2017   \n",
       "\n",
       "     rating  duration                           listed_in  \\\n",
       "0     TV-PG    90 min  Children & Family Movies, Comedies   \n",
       "1     TV-MA    94 min                     Stand-Up Comedy   \n",
       "2  TV-Y7-FV  1 Season                            Kids' TV   \n",
       "3     TV-Y7  1 Season                            Kids' TV   \n",
       "4     TV-14    99 min                            Comedies   \n",
       "\n",
       "                                         description  \n",
       "0  Before planning an awesome wedding for his gra...  \n",
       "1  Jandino Asporaat riffs on the challenges of ra...  \n",
       "2  With the help of three human allies, the Autob...  \n",
       "3  When a prison ship crash unleashes hundreds of...  \n",
       "4  When nerdy high schooler Dani finally attracts...  "
      ]
     },
     "execution_count": 4,
     "metadata": {},
     "output_type": "execute_result"
    }
   ],
   "source": [
    "df.head()"
   ]
  },
  {
   "cell_type": "code",
   "execution_count": 5,
   "metadata": {},
   "outputs": [
    {
     "data": {
      "text/plain": [
       "11"
      ]
     },
     "execution_count": 5,
     "metadata": {},
     "output_type": "execute_result"
    }
   ],
   "source": [
    "df['date_added'].isnull().sum()"
   ]
  },
  {
   "cell_type": "code",
   "execution_count": 7,
   "metadata": {},
   "outputs": [],
   "source": [
    "df = df.drop(columns=['show_id'])"
   ]
  },
  {
   "cell_type": "code",
   "execution_count": 8,
   "metadata": {},
   "outputs": [
    {
     "data": {
      "text/plain": [
       "'Raúl Campos, Jan Suter'"
      ]
     },
     "execution_count": 8,
     "metadata": {},
     "output_type": "execute_result"
    }
   ],
   "source": [
    "#Primeira pergunta, qual diretor ou diretores dirigiram mais filmes\n",
    "df['director'].value_counts().index[0]"
   ]
  },
  {
   "cell_type": "code",
   "execution_count": 9,
   "metadata": {},
   "outputs": [
    {
     "data": {
      "text/plain": [
       "array(['TV-PG', 'TV-MA', 'TV-Y7-FV', 'TV-Y7', 'TV-14', 'R', 'TV-Y', 'NR',\n",
       "       'PG-13', 'TV-G', 'PG', 'G', nan, 'UR', 'NC-17'], dtype=object)"
      ]
     },
     "execution_count": 9,
     "metadata": {},
     "output_type": "execute_result"
    }
   ],
   "source": [
    "df['rating'].unique()"
   ]
  },
  {
   "cell_type": "code",
   "execution_count": 10,
   "metadata": {},
   "outputs": [],
   "source": [
    "dic = {'TV-PG': '7+' , 'TV-Y7': '7+' , 'TV-Y7-FV': '7+' , 'TV-MA': '18+' , 'TV-14': '16+' , 'R':'18+','TV-Y':'Todos','NR':'18+'\n",
    "       ,'PG-13':'13+','TV-G':'Todos','PG':'7+','G':'Todos','NC-17':'18+' ,'UR':'Não Classificado'}"
   ]
  },
  {
   "cell_type": "code",
   "execution_count": 11,
   "metadata": {},
   "outputs": [],
   "source": [
    "df['rating'] = df['rating'].map(dic)"
   ]
  },
  {
   "cell_type": "code",
   "execution_count": 12,
   "metadata": {},
   "outputs": [
    {
     "data": {
      "text/plain": [
       "18+      697\n",
       "16+      660\n",
       "7+       438\n",
       "Todos    172\n",
       "Name: rating, dtype: int64"
      ]
     },
     "execution_count": 12,
     "metadata": {},
     "output_type": "execute_result"
    }
   ],
   "source": [
    "df[df['type'] =='TV Show']['rating'].value_counts()"
   ]
  },
  {
   "cell_type": "code",
   "execution_count": 13,
   "metadata": {},
   "outputs": [
    {
     "data": {
      "text/plain": [
       "18+                 2058\n",
       "16+                 1038\n",
       "7+                   711\n",
       "13+                  286\n",
       "Todos                157\n",
       "Não Classificado       7\n",
       "Name: rating, dtype: int64"
      ]
     },
     "execution_count": 13,
     "metadata": {},
     "output_type": "execute_result"
    }
   ],
   "source": [
    "#Qual faixa etária possui mais filmes \n",
    "df[df['type'] =='Movie']['rating'].value_counts()"
   ]
  },
  {
   "cell_type": "code",
   "execution_count": 14,
   "metadata": {},
   "outputs": [
    {
     "data": {
      "text/html": [
       "<div>\n",
       "<style scoped>\n",
       "    .dataframe tbody tr th:only-of-type {\n",
       "        vertical-align: middle;\n",
       "    }\n",
       "\n",
       "    .dataframe tbody tr th {\n",
       "        vertical-align: top;\n",
       "    }\n",
       "\n",
       "    .dataframe thead th {\n",
       "        text-align: right;\n",
       "    }\n",
       "</style>\n",
       "<table border=\"1\" class=\"dataframe\">\n",
       "  <thead>\n",
       "    <tr style=\"text-align: right;\">\n",
       "      <th></th>\n",
       "      <th>type</th>\n",
       "      <th>title</th>\n",
       "      <th>director</th>\n",
       "      <th>cast</th>\n",
       "      <th>country</th>\n",
       "      <th>date_added</th>\n",
       "      <th>release_year</th>\n",
       "      <th>rating</th>\n",
       "      <th>duration</th>\n",
       "      <th>listed_in</th>\n",
       "      <th>description</th>\n",
       "    </tr>\n",
       "  </thead>\n",
       "  <tbody>\n",
       "    <tr>\n",
       "      <th>332</th>\n",
       "      <td>Movie</td>\n",
       "      <td>You Don't Mess with the Zohan</td>\n",
       "      <td>Dennis Dugan</td>\n",
       "      <td>Adam Sandler, John Turturro, Emmanuelle Chriqu...</td>\n",
       "      <td>United States</td>\n",
       "      <td>September 1, 2019</td>\n",
       "      <td>2008</td>\n",
       "      <td>Não Classificado</td>\n",
       "      <td>113 min</td>\n",
       "      <td>Action &amp; Adventure, Comedies</td>\n",
       "      <td>An Israeli counterterrorism soldier with a sec...</td>\n",
       "    </tr>\n",
       "    <tr>\n",
       "      <th>799</th>\n",
       "      <td>Movie</td>\n",
       "      <td>Good Luck Chuck</td>\n",
       "      <td>Mark Helfrich</td>\n",
       "      <td>Dane Cook, Jessica Alba, Dan Fogler, Ellia Eng...</td>\n",
       "      <td>United States, Canada</td>\n",
       "      <td>October 1, 2019</td>\n",
       "      <td>2007</td>\n",
       "      <td>Não Classificado</td>\n",
       "      <td>99 min</td>\n",
       "      <td>Comedies, Romantic Movies</td>\n",
       "      <td>Every time Chuck breaks up with a girlfriend, ...</td>\n",
       "    </tr>\n",
       "    <tr>\n",
       "      <th>1754</th>\n",
       "      <td>Movie</td>\n",
       "      <td>Shootout at Lokhandwala</td>\n",
       "      <td>Apoorva Lakhia</td>\n",
       "      <td>Sanjay Dutt, Sunil Shetty, Amitabh Bachchan, A...</td>\n",
       "      <td>India</td>\n",
       "      <td>May 15, 2019</td>\n",
       "      <td>2007</td>\n",
       "      <td>Não Classificado</td>\n",
       "      <td>116 min</td>\n",
       "      <td>Action &amp; Adventure, Dramas, International Movies</td>\n",
       "      <td>Based on a true story, this action film follow...</td>\n",
       "    </tr>\n",
       "    <tr>\n",
       "      <th>2461</th>\n",
       "      <td>Movie</td>\n",
       "      <td>Immoral Tales</td>\n",
       "      <td>Walerian Borowczyk</td>\n",
       "      <td>Lise Danvers, Fabrice Luchini, Charlotte Alexa...</td>\n",
       "      <td>France</td>\n",
       "      <td>June 6, 2019</td>\n",
       "      <td>1974</td>\n",
       "      <td>Não Classificado</td>\n",
       "      <td>103 min</td>\n",
       "      <td>Dramas, International Movies, Romantic Movies</td>\n",
       "      <td>This anthology illustrates the timeless nature...</td>\n",
       "    </tr>\n",
       "    <tr>\n",
       "      <th>3029</th>\n",
       "      <td>Movie</td>\n",
       "      <td>Sex Doll</td>\n",
       "      <td>Sylvie Verheyde</td>\n",
       "      <td>Hafsia Herzi, Ash Stymest, Karole Rocher, Paul...</td>\n",
       "      <td>United Kingdom, France</td>\n",
       "      <td>July 10, 2017</td>\n",
       "      <td>2016</td>\n",
       "      <td>Não Classificado</td>\n",
       "      <td>103 min</td>\n",
       "      <td>Dramas, International Movies, Romantic Movies</td>\n",
       "      <td>A high-end call girl falls for a handsome man ...</td>\n",
       "    </tr>\n",
       "    <tr>\n",
       "      <th>3441</th>\n",
       "      <td>Movie</td>\n",
       "      <td>Aquarius</td>\n",
       "      <td>Kleber Mendonça Filho</td>\n",
       "      <td>Sonia Braga, Maeve Jinkings, Irandhir Santos, ...</td>\n",
       "      <td>Brazil, France</td>\n",
       "      <td>January 13, 2017</td>\n",
       "      <td>2016</td>\n",
       "      <td>Não Classificado</td>\n",
       "      <td>146 min</td>\n",
       "      <td>Dramas, International Movies</td>\n",
       "      <td>The final holdout in her historic beachside bu...</td>\n",
       "    </tr>\n",
       "    <tr>\n",
       "      <th>4436</th>\n",
       "      <td>Movie</td>\n",
       "      <td>White Girl</td>\n",
       "      <td>Elizabeth Wood</td>\n",
       "      <td>Morgan Saylor, Brian 'Sene' Marc, Justin Barth...</td>\n",
       "      <td>United States</td>\n",
       "      <td>December 2, 2016</td>\n",
       "      <td>2016</td>\n",
       "      <td>Não Classificado</td>\n",
       "      <td>90 min</td>\n",
       "      <td>Dramas, Independent Movies</td>\n",
       "      <td>A college girl romping through New York City i...</td>\n",
       "    </tr>\n",
       "  </tbody>\n",
       "</table>\n",
       "</div>"
      ],
      "text/plain": [
       "       type                          title               director  \\\n",
       "332   Movie  You Don't Mess with the Zohan           Dennis Dugan   \n",
       "799   Movie                Good Luck Chuck          Mark Helfrich   \n",
       "1754  Movie        Shootout at Lokhandwala         Apoorva Lakhia   \n",
       "2461  Movie                  Immoral Tales     Walerian Borowczyk   \n",
       "3029  Movie                       Sex Doll        Sylvie Verheyde   \n",
       "3441  Movie                       Aquarius  Kleber Mendonça Filho   \n",
       "4436  Movie                     White Girl         Elizabeth Wood   \n",
       "\n",
       "                                                   cast  \\\n",
       "332   Adam Sandler, John Turturro, Emmanuelle Chriqu...   \n",
       "799   Dane Cook, Jessica Alba, Dan Fogler, Ellia Eng...   \n",
       "1754  Sanjay Dutt, Sunil Shetty, Amitabh Bachchan, A...   \n",
       "2461  Lise Danvers, Fabrice Luchini, Charlotte Alexa...   \n",
       "3029  Hafsia Herzi, Ash Stymest, Karole Rocher, Paul...   \n",
       "3441  Sonia Braga, Maeve Jinkings, Irandhir Santos, ...   \n",
       "4436  Morgan Saylor, Brian 'Sene' Marc, Justin Barth...   \n",
       "\n",
       "                     country         date_added  release_year  \\\n",
       "332            United States  September 1, 2019          2008   \n",
       "799    United States, Canada    October 1, 2019          2007   \n",
       "1754                   India       May 15, 2019          2007   \n",
       "2461                  France       June 6, 2019          1974   \n",
       "3029  United Kingdom, France      July 10, 2017          2016   \n",
       "3441          Brazil, France   January 13, 2017          2016   \n",
       "4436           United States   December 2, 2016          2016   \n",
       "\n",
       "                rating duration  \\\n",
       "332   Não Classificado  113 min   \n",
       "799   Não Classificado   99 min   \n",
       "1754  Não Classificado  116 min   \n",
       "2461  Não Classificado  103 min   \n",
       "3029  Não Classificado  103 min   \n",
       "3441  Não Classificado  146 min   \n",
       "4436  Não Classificado   90 min   \n",
       "\n",
       "                                             listed_in  \\\n",
       "332                       Action & Adventure, Comedies   \n",
       "799                          Comedies, Romantic Movies   \n",
       "1754  Action & Adventure, Dramas, International Movies   \n",
       "2461     Dramas, International Movies, Romantic Movies   \n",
       "3029     Dramas, International Movies, Romantic Movies   \n",
       "3441                      Dramas, International Movies   \n",
       "4436                        Dramas, Independent Movies   \n",
       "\n",
       "                                            description  \n",
       "332   An Israeli counterterrorism soldier with a sec...  \n",
       "799   Every time Chuck breaks up with a girlfriend, ...  \n",
       "1754  Based on a true story, this action film follow...  \n",
       "2461  This anthology illustrates the timeless nature...  \n",
       "3029  A high-end call girl falls for a handsome man ...  \n",
       "3441  The final holdout in her historic beachside bu...  \n",
       "4436  A college girl romping through New York City i...  "
      ]
     },
     "execution_count": 14,
     "metadata": {},
     "output_type": "execute_result"
    }
   ],
   "source": [
    "df[df['rating'] == 'Não Classificado']"
   ]
  },
  {
   "cell_type": "code",
   "execution_count": 15,
   "metadata": {},
   "outputs": [
    {
     "data": {
      "text/plain": [
       "332     You Don't Mess with the Zohan\n",
       "799                   Good Luck Chuck\n",
       "1754          Shootout at Lokhandwala\n",
       "2461                    Immoral Tales\n",
       "3029                         Sex Doll\n",
       "3441                         Aquarius\n",
       "4436                       White Girl\n",
       "Name: title, dtype: object"
      ]
     },
     "execution_count": 15,
     "metadata": {},
     "output_type": "execute_result"
    }
   ],
   "source": [
    "#Quais filmes com categoria não classificados existem?\n",
    "indices = [df[df['rating'] == 'Não Classificado'].index[i]  for i in range(len(df[df['rating'] == 'Não Classificado']))]\n",
    "df['title'].loc[indices]"
   ]
  },
  {
   "cell_type": "code",
   "execution_count": 17,
   "metadata": {},
   "outputs": [],
   "source": [
    "df['date_added'] = pd.to_datetime(df['date_added'])"
   ]
  },
  {
   "cell_type": "code",
   "execution_count": 125,
   "metadata": {},
   "outputs": [
    {
     "data": {
      "text/plain": [
       "<AxesSubplot:>"
      ]
     },
     "execution_count": 125,
     "metadata": {},
     "output_type": "execute_result"
    },
    {
     "data": {
      "image/png": "[encoded data removed]",
      "text/plain": [
       "<Figure size 432x288 with 1 Axes>"
      ]
     },
     "metadata": {
      "needs_background": "light"
     },
     "output_type": "display_data"
    }
   ],
   "source": [
    "df['release_year'].hist()"
   ]
  },
  {
   "cell_type": "markdown",
   "metadata": {},
   "source": [
    "### Centralidade e dispersão"
   ]
  },
  {
   "cell_type": "code",
   "execution_count": 127,
   "metadata": {},
   "outputs": [
    {
     "name": "stdout",
     "output_type": "stream",
     "text": [
      "2013.3593198588387\n",
      "8.811620351521556\n",
      "2016.0\n",
      "77.64465321934887\n",
      "0    2018\n",
      "dtype: int64\n"
     ]
    }
   ],
   "source": [
    "print(df['release_year'].mean())\n",
    "print(df['release_year'].std())\n",
    "print(df['release_year'].median())\n",
    "print(df['release_year'].var())\n",
    "print(df['release_year'].mode())"
   ]
  },
  {
   "cell_type": "code",
   "execution_count": 150,
   "metadata": {},
   "outputs": [
    {
     "name": "stdout",
     "output_type": "stream",
     "text": [
      "1037.3333333333333\n",
      "1051.3946293693282\n",
      "739.0\n",
      "1105430.6666666667\n"
     ]
    }
   ],
   "source": [
    "print(df['rating'].value_counts().mean())\n",
    "print(df['rating'].value_counts().std())\n",
    "print(df['rating'].value_counts().median())\n",
    "print(df['rating'].value_counts().var())"
   ]
  },
  {
   "cell_type": "markdown",
   "metadata": {},
   "source": [
    "### Boxplots"
   ]
  },
  {
   "cell_type": "code",
   "execution_count": 142,
   "metadata": {},
   "outputs": [
    {
     "data": {
      "text/plain": [
       "<AxesSubplot:>"
      ]
     },
     "execution_count": 142,
     "metadata": {},
     "output_type": "execute_result"
    },
    {
     "data": {
      "image/png": "[encoded data removed]",
      "text/plain": [
       "<Figure size 432x288 with 1 Axes>"
      ]
     },
     "metadata": {
      "needs_background": "light"
     },
     "output_type": "display_data"
    }
   ],
   "source": [
    "df.boxplot(column=['release_year'])"
   ]
  },
  {
   "cell_type": "code",
   "execution_count": 143,
   "metadata": {},
   "outputs": [
    {
     "data": {
      "text/plain": [
       "{'whiskers': [<matplotlib.lines.Line2D at 0x22080c45908>,\n",
       "  <matplotlib.lines.Line2D at 0x22080c3d508>],\n",
       " 'caps': [<matplotlib.lines.Line2D at 0x22080c40f48>,\n",
       "  <matplotlib.lines.Line2D at 0x22080bd1608>],\n",
       " 'boxes': [<matplotlib.lines.Line2D at 0x2208025c8c8>],\n",
       " 'medians': [<matplotlib.lines.Line2D at 0x22080d077c8>],\n",
       " 'fliers': [<matplotlib.lines.Line2D at 0x22080c62fc8>],\n",
       " 'means': []}"
      ]
     },
     "execution_count": 143,
     "metadata": {},
     "output_type": "execute_result"
    },
    {
     "data": {
      "image/png": "[encoded data removed]",
      "text/plain": [
       "<Figure size 432x288 with 1 Axes>"
      ]
     },
     "metadata": {
      "needs_background": "light"
     },
     "output_type": "display_data"
    }
   ],
   "source": [
    "plt.boxplot(df['rating'].value_counts())"
   ]
  }
 ],
 "metadata": {
  "kernelspec": {
   "display_name": "Python 3",
   "language": "python",
   "name": "python3"
  },
  "language_info": {
   "codemirror_mode": {
    "name": "ipython",
    "version": 3
   },
   "file_extension": ".py",
   "mimetype": "text/x-python",
   "name": "python",
   "nbconvert_exporter": "python",
   "pygments_lexer": "ipython3",
   "version": "3.7.9"
  }
 },
 "nbformat": 4,
 "nbformat_minor": 4
}
